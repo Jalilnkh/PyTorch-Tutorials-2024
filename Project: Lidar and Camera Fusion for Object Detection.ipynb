{
 "cells": [
  {
   "cell_type": "markdown",
   "metadata": {},
   "source": [
    "# 3D Object Detection via Sensor Fusion (Lidar and Camera) \n",
    "\n",
    "Originaly written by: **PixelOverflow**\n",
    "\n",
    "If you wish to watch videos from you can find videos in the following links:\n",
    "### Sensor Fusion Tutorial:\n",
    "\n",
    "- Part 1 - [3D Object Detection Overview](https://www.youtube.com/watch?v=hXpXKRnnM9o&t=0s)\n",
    "- Part 2 - [Coordinate Transformations](https://www.youtube.com/watch?v=EfiYr61RGUA&t=0s) \n",
    "- Part 3 - [Loading Calibration Data](https://www.youtube.com/watch?v=pRAPXfWy-3A&t=0s)     \n",
    "- Part 4 - [Sensor Fusion Pipeline](https://www.youtube.com/watch?v=vVtpKzEwEFM&t=0s)  \n",
    "- Part 5 - [Check the Math](https://www.youtube.com/watch?v=lpjQnIrnt20&t=0s)  "
   ]
  },
  {
   "cell_type": "code",
   "execution_count": null,
   "metadata": {},
   "outputs": [],
   "source": []
  }
 ],
 "metadata": {
  "language_info": {
   "name": "python"
  }
 },
 "nbformat": 4,
 "nbformat_minor": 2
}
